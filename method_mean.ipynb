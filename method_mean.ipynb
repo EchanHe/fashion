{
 "cells": [
  {
   "cell_type": "code",
   "execution_count": 1,
   "metadata": {
    "collapsed": true
   },
   "outputs": [],
   "source": [
    "import numpy as np\n",
    "import pandas as pd\n",
    "\n",
    "import matplotlib.pyplot as plt\n",
    "%matplotlib inline\n",
    "import categories\n",
    "\n",
    "import math\n",
    "# import pillow"
   ]
  },
  {
   "cell_type": "code",
   "execution_count": 2,
   "metadata": {
    "collapsed": true
   },
   "outputs": [],
   "source": [
    "\"\"\"\n",
    "将test 的数据分类别\n",
    "\"\"\"\n",
    "\n",
    "pre_path = \"test/\"\n",
    "intput_file_name =  \"test.csv\"\n",
    "\n",
    "\n",
    "#通过不同的类型写入\n",
    "def write_with_category(df , is_train=True , pre_path=\"train/\"):\n",
    "    write_path = pre_path+\"test_\"\n",
    "    categories = df.image_category.unique()\n",
    "    for category in categories:\n",
    "        df_new = df.loc[df.image_category==category,:]\n",
    "        df_new.to_csv(write_path+category+\".csv\",index =False)\n",
    "        \n",
    "        \n",
    "data_pad = pd.read_csv(pre_path + intput_file_name)\n",
    "write_with_category(data_pad,pre_path=pre_path)"
   ]
  },
  {
   "cell_type": "code",
   "execution_count": 4,
   "metadata": {
    "collapsed": true
   },
   "outputs": [],
   "source": [
    "\"\"\"\n",
    "按不同的类型 将坐标的mean赋值\n",
    "\"\"\"\n",
    "\n",
    "cates = [\"blouse\" ,\"outwear\",\"trousers\",\"skirt\",\"dress\" ]\n",
    "cates = [\"dress\"]\n",
    "train_path = \"train_pad/\"\n",
    "test_path = \"test/\"\n",
    "output_path = \"output/tmp/\"\n",
    "\n",
    "for cate in cates:\n",
    "    input_coord_file = train_path +\"Annotations/train_\"+cate+\"_coord.csv\"\n",
    "    input_coord_file = train_path +\"Annotations/train_\"+cate+\"_coord.csv\"\n",
    "    input_test_file = test_path +\"test_\"+cate + \".csv\"\n",
    "    output_test_file = output_path + \"test_\"+cate + \"_coord.csv\"\n",
    "    \n",
    "    train_data = pd.read_csv(input_coord_file)\n",
    "    test_data = pd.read_csv(input_test_file)\n",
    "    \n",
    "    for i in np.arange(2,train_data.shape[1]):\n",
    "        test_data[train_data.columns[i]] =math.ceil(train_data.iloc[:,i].mean())\n",
    "\n",
    "    test_data.to_csv(output_test_file , index = False)"
   ]
  },
  {
   "cell_type": "code",
   "execution_count": null,
   "metadata": {
    "collapsed": true
   },
   "outputs": [],
   "source": []
  }
 ],
 "metadata": {
  "kernelspec": {
   "display_name": "Python 3",
   "language": "python",
   "name": "python3"
  },
  "language_info": {
   "codemirror_mode": {
    "name": "ipython",
    "version": 3
   },
   "file_extension": ".py",
   "mimetype": "text/x-python",
   "name": "python",
   "nbconvert_exporter": "python",
   "pygments_lexer": "ipython3",
   "version": "3.6.3"
  }
 },
 "nbformat": 4,
 "nbformat_minor": 2
}
