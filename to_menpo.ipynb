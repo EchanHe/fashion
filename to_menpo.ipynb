{
 "cells": [
  {
   "cell_type": "code",
   "execution_count": 3,
   "metadata": {
    "collapsed": true
   },
   "outputs": [],
   "source": [
    "import numpy as np\n",
    "import pandas as pd\n",
    "\n",
    "import matplotlib.pyplot as plt\n",
    "%matplotlib inline\n",
    "\n",
    "from PIL import Image\n",
    "import categories\n"
   ]
  },
  {
   "cell_type": "code",
   "execution_count": 31,
   "metadata": {
    "collapsed": true
   },
   "outputs": [],
   "source": [
    "pre_path = \"train_pad/\"\n",
    "intput_blouse_file =  \"Annotations/train_blouse_coord.csv\"\n",
    "\n",
    "output_folder = 'aam/'\n",
    "def to_pts_file(df , input_folder , output_folder):\n",
    "    columns = df.columns\n",
    "    if \"height\" in columns or \"width\" in columns:\n",
    "        l_m_columns = columns.drop(['image_id' , 'image_category','height','width'])\n",
    "    else:\n",
    "        l_m_columns = columns.drop(['image_id' , 'image_category'])\n",
    "    lm_cnt = int(l_m_columns.shape[0]/3)\n",
    "    for idx, row in df.iterrows():\n",
    "        is_write = True\n",
    "        filepath =input_folder+row['image_id']\n",
    "        output_path = output_folder+row['image_id']\n",
    "        img = Image.open(filepath)\n",
    "        \n",
    "       \n",
    "        output_str = \"version: 1\\nn_points:{}\\n{{\".format(lm_cnt)\n",
    "        for i in np.arange(0,lm_cnt):\n",
    "            x_id = 2+3*i\n",
    "            y_id = 3+3*i\n",
    "            vis_id = 4+3*i\n",
    "            #             print(df.shape,idx,lm_cnt,i,df.shape[1],x_id , y_id)\n",
    "            #不要vis == -1的图片:\n",
    "            if df.iloc[idx-1,vis_id] == -1:\n",
    "                is_write= False\n",
    "                break\n",
    "            output_str+= \"\\n{} {}\".format(df.iloc[idx-1,x_id],df.iloc[idx-1,y_id])\n",
    "        output_str += \"\\n}\" \n",
    "        if is_write:\n",
    "            with open(output_path[:-4]+'.pts', 'w+') as fh:\n",
    "                fh.write(output_str)\n",
    "            img.save(output_path)\n",
    "data_blouse_coord = pd.read_csv(pre_path + intput_blouse_file)   \n",
    "data_blouse_coord = data_blouse_coord\n",
    "\n",
    "to_pts_file(data_blouse_coord ,pre_path ,output_folder  )"
   ]
  },
  {
   "cell_type": "code",
   "execution_count": 27,
   "metadata": {
    "collapsed": true
   },
   "outputs": [],
   "source": []
  }
 ],
 "metadata": {
  "kernelspec": {
   "display_name": "Python 3",
   "language": "python",
   "name": "python3"
  },
  "language_info": {
   "codemirror_mode": {
    "name": "ipython",
    "version": 3
   },
   "file_extension": ".py",
   "mimetype": "text/x-python",
   "name": "python",
   "nbconvert_exporter": "python",
   "pygments_lexer": "ipython3",
   "version": "3.6.3"
  }
 },
 "nbformat": 4,
 "nbformat_minor": 2
}
